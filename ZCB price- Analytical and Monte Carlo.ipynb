{
 "cells": [
  {
   "cell_type": "markdown",
   "id": "569cb68a",
   "metadata": {},
   "source": [
    "# Solution of parts a and b of question number 1"
   ]
  },
  {
   "cell_type": "code",
   "execution_count": 1,
   "id": "cdf132e4",
   "metadata": {},
   "outputs": [],
   "source": [
    "import math \n",
    "import numpy as np"
   ]
  },
  {
   "cell_type": "markdown",
   "id": "9aa01885",
   "metadata": {},
   "source": [
    "<b>Analytical price of 5-year Zero-coupon bond "
   ]
  },
  {
   "cell_type": "code",
   "execution_count": 2,
   "id": "bfee708f",
   "metadata": {},
   "outputs": [],
   "source": [
    "## Assigning values  \n",
    "a=0.3\n",
    "b=0.05\n",
    "sigma=0.03\n",
    "r0=0.08\n",
    "t=0\n",
    "T=5"
   ]
  },
  {
   "cell_type": "code",
   "execution_count": 3,
   "id": "31940fa1",
   "metadata": {},
   "outputs": [],
   "source": [
    "## P: Analytical price of 5 year zero coupon bond\n",
    "## P=Ae^(-Br(t))\n",
    "## where B=1-exp(-1*a*(T-t))/a and A=exp(((B-T+t)*(a*a*b-(sigma*sigma/2))/a*a)-(sigma*sigma*B*B/4*a))"
   ]
  },
  {
   "cell_type": "code",
   "execution_count": 4,
   "id": "7efc3a2e",
   "metadata": {},
   "outputs": [
    {
     "name": "stdout",
     "output_type": "stream",
     "text": [
      "2.5895661328385673\n",
      "0.8927051662549038\n"
     ]
    }
   ],
   "source": [
    "B= (1-math.exp(-1*a*(T-t)))/a\n",
    "A= math.exp((((B-T+t)*((a*a*b)-(sigma*sigma/2)))/(a*a))-((sigma*sigma*B*B)/(4*a)))\n",
    "print(B)\n",
    "print(A)"
   ]
  },
  {
   "cell_type": "code",
   "execution_count": 5,
   "id": "c1f9617d",
   "metadata": {},
   "outputs": [
    {
     "name": "stdout",
     "output_type": "stream",
     "text": [
      "Analytical price of 5-year Zero-coupon bond is 0.7257\n"
     ]
    }
   ],
   "source": [
    "## Evaluation of 5 year zero coupon bond\n",
    "P= A*math.exp(-B*r0)\n",
    "print(\"Analytical price of 5-year Zero-coupon bond is\", np.round(P,4))"
   ]
  },
  {
   "cell_type": "markdown",
   "id": "af4fd554",
   "metadata": {},
   "source": [
    "<b>Monte Carlo Price of 5-year Zero-coupon bond "
   ]
  },
  {
   "cell_type": "code",
   "execution_count": 6,
   "id": "4955a84d",
   "metadata": {},
   "outputs": [],
   "source": [
    "# MC simulation of vasicek model using Euler discretisation.\n",
    "def vasicek(r0, kappa, theta, sigma, lambd, T=1.0, N=10):    \n",
    "    dt = T/float(N)    \n",
    "    rates = [r0]\n",
    "    theta_mod = theta + lambd*sigma/kappa\n",
    "    for i in range(N):\n",
    "        dr = kappa*(theta_mod-rates[-1])*dt + sigma*np.random.normal()*math.sqrt(dt)\n",
    "        rates.append(rates[-1] + dr)\n",
    "        dates = [x*dt for x in range(N+1)];\n",
    "    return dates, rates"
   ]
  },
  {
   "cell_type": "code",
   "execution_count": 7,
   "id": "47911cbe",
   "metadata": {},
   "outputs": [
    {
     "name": "stdout",
     "output_type": "stream",
     "text": [
      "\n",
      "MC price of 5-year Zero-coupon bond is 0.7256\n",
      "\n",
      "Standard MC error is  0.004449\n"
     ]
    }
   ],
   "source": [
    "paths = []; \n",
    "zero_prices = [];\n",
    "\n",
    "## Setting model parameters.\n",
    "NumSimulations = 400;\n",
    "r0 = 0.08; kappa = 0.3; theta = 0.05; sigma = 0.03; T = 5.0; time_steps= 800;\n",
    "lambd = 0.0; # market price of risk\n",
    "\n",
    "## Performing the MC simulation.\n",
    "for j in range(NumSimulations):   \n",
    "    x, y = vasicek(r0, kappa, theta, sigma, lambd, T, time_steps)\n",
    "    paths.append(y);\n",
    "    ##Evaluate the Integral For Stochastic Discount Rate using Trapeziodal rule.\n",
    "    dt = T/float(time_steps);\n",
    "    f = 0.5*dt*(y[0]+y[-1])+dt*np.sum(y[1:-1])\n",
    "    zero_prices.append(np.exp(-f));\n",
    "    monte_carlo_price = np.mean(zero_prices);\n",
    "\n",
    "print(\"\\nMC price of 5-year Zero-coupon bond is %0.4f\" % monte_carlo_price);\n",
    "std_err = np.std(zero_prices)/np.sqrt(NumSimulations);\n",
    "print(\"\\nStandard MC error is  %0.6f\" % std_err);"
   ]
  }
 ],
 "metadata": {
  "kernelspec": {
   "display_name": "Python 3",
   "language": "python",
   "name": "python3"
  },
  "language_info": {
   "codemirror_mode": {
    "name": "ipython",
    "version": 3
   },
   "file_extension": ".py",
   "mimetype": "text/x-python",
   "name": "python",
   "nbconvert_exporter": "python",
   "pygments_lexer": "ipython3",
   "version": "3.8.8"
  }
 },
 "nbformat": 4,
 "nbformat_minor": 5
}
